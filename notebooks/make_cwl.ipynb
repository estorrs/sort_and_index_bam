{
 "cells": [
  {
   "cell_type": "code",
   "execution_count": 1,
   "id": "bafc6e2b",
   "metadata": {},
   "outputs": [],
   "source": [
    "import os\n",
    "import yaml\n",
    "import json\n",
    "import pandas as pd\n",
    "from pathlib import Path"
   ]
  },
  {
   "cell_type": "code",
   "execution_count": 2,
   "id": "1ea13e5b",
   "metadata": {},
   "outputs": [],
   "source": [
    "cwl_dir = '../cwl/'\n",
    "Path(cwl_dir).mkdir(parents=True, exist_ok=True)"
   ]
  },
  {
   "cell_type": "code",
   "execution_count": 3,
   "id": "205653f8",
   "metadata": {},
   "outputs": [],
   "source": [
    "template = {\n",
    "    'input_bam': {\n",
    "        'class': 'File',\n",
    "        'path': 'path/to/bam'\n",
    "    },\n",
    "    'cpu': 'a_int',\n",
    "}"
   ]
  },
  {
   "cell_type": "code",
   "execution_count": 4,
   "id": "dd6b4f5c",
   "metadata": {},
   "outputs": [],
   "source": [
    "yaml.safe_dump(template, open(os.path.join(cwl_dir, 'template.sort_and_index_bam.yaml'), 'w'))"
   ]
  },
  {
   "cell_type": "code",
   "execution_count": null,
   "id": "f727ede4",
   "metadata": {},
   "outputs": [],
   "source": []
  },
  {
   "cell_type": "code",
   "execution_count": null,
   "id": "1329d45b",
   "metadata": {},
   "outputs": [],
   "source": [
    "cwl = {\n",
    "    'class': 'CommandLineTool',\n",
    "    'cwlVersion': 'v1.0',\n",
    "    'id': 'sort_and_index_bam',\n",
    "    'label': 'sort_and_index_bam',\n",
    "    'baseCommand': ['python', '/sort_and_index_bam/sort_and_index.py'],\n",
    "    'inputs': [\n",
    "        {\n",
    "            'id': 'input_bam',\n",
    "            'type': 'File',\n",
    "            'inputBinding': {\n",
    "                'position': 1\n",
    "            }\n",
    "        },\n",
    "        {\n",
    "            'id': 'cpu',\n",
    "            'type': 'int?',\n",
    "            'default': 0,\n",
    "            'inputBinding': {\n",
    "                'position': 1,\n",
    "                'prefix': '--cpu'\n",
    "            }\n",
    "        },\n",
    "        # needs path to be set so it works on compute1\n",
    "        {\n",
    "            'id': 'environ_PATH',\n",
    "            'type': 'string?',\n",
    "            'default': '/miniconda/envs/sort_and_index_bam/bin:$PATH'\n",
    "        }\n",
    "    ],\n",
    "    'arguments': [\n",
    "        {\n",
    "            'position': 2,\n",
    "            'valueFrom': 'output.sorted.bam'\n",
    "        }\n",
    "    ],\n",
    "    'outputs': [\n",
    "        {\n",
    "            'id': 'output_bam',\n",
    "            'type': 'File',\n",
    "            'outputBinding': {'glob': 'output.sorted.bam'},     \n",
    "        }\n",
    "    ],\n",
    "    'requirements': [\n",
    "        {\n",
    "            'class': 'DockerRequirement',\n",
    "            'dockerPull': 'estorrs/sort_and_index_bam:0.0.1'\n",
    "        },\n",
    "        {\n",
    "            'class': 'ResourceRequirement',\n",
    "            'ramMin': 28000,\n",
    "            'coresMin': '$(inputs.cpu)'\n",
    "        },\n",
    "        {\n",
    "            'class': 'EnvVarRequirement',\n",
    "            'envDef': {\n",
    "                'PATH': '$(inputs.environ_PATH)',\n",
    "            }\n",
    "        }\n",
    "    ]\n",
    "}"
   ]
  },
  {
   "cell_type": "code",
   "execution_count": null,
   "id": "58a7a62d",
   "metadata": {},
   "outputs": [],
   "source": []
  },
  {
   "cell_type": "code",
   "execution_count": null,
   "id": "9651f3d0",
   "metadata": {},
   "outputs": [],
   "source": []
  },
  {
   "cell_type": "code",
   "execution_count": null,
   "id": "e9bdaf97",
   "metadata": {},
   "outputs": [],
   "source": []
  }
 ],
 "metadata": {
  "kernelspec": {
   "display_name": "Python 3 (ipykernel)",
   "language": "python",
   "name": "python3"
  },
  "language_info": {
   "codemirror_mode": {
    "name": "ipython",
    "version": 3
   },
   "file_extension": ".py",
   "mimetype": "text/x-python",
   "name": "python",
   "nbconvert_exporter": "python",
   "pygments_lexer": "ipython3",
   "version": "3.10.2"
  }
 },
 "nbformat": 4,
 "nbformat_minor": 5
}
